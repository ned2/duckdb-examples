{
 "cells": [
  {
   "cell_type": "markdown",
   "id": "661c2f7d-b159-4795-b567-9336ae4fb740",
   "metadata": {},
   "source": [
    "# Loading and exploring the Melbourne Bike Share Dataset\n",
    "\n",
    "Dataset:\n",
    "\n",
    "https://melbournetestbed.opendatasoft.com/explore/dataset/melbourne-bike-share-station-readings-2011-2017/information/"
   ]
  },
  {
   "cell_type": "code",
   "execution_count": null,
   "id": "b8a090b1-383a-4dc0-8b09-527223bef6e2",
   "metadata": {},
   "outputs": [],
   "source": [
    "! pip install duckdb pandas"
   ]
  },
  {
   "cell_type": "markdown",
   "id": "a4db5aa9-9af7-4d46-b2ef-71fa89401038",
   "metadata": {},
   "source": [
    "## Loading the dataset with Pandas"
   ]
  },
  {
   "cell_type": "code",
   "execution_count": null,
   "id": "686c7e1a-4cb7-42b8-89f1-d164a8ba88fa",
   "metadata": {},
   "outputs": [],
   "source": [
    "import pandas as pd\n",
    "\n",
    "df = pd.read_csv(\n",
    "    \"data/melb_bike_share.csv\",\n",
    "    usecols=[\"ID\", \"NAME\", \"NBBIKES\", \"RUNDATE\", \"LAT\", \"LONG\"],\n",
    "    parse_dates=[\"RUNDATE\"],\n",
    "    date_format=\"%Y%m%d%H%M%S\",\n",
    ")\n",
    "\n",
    "df"
   ]
  },
  {
   "cell_type": "markdown",
   "id": "2c3bfc19-389c-4a01-8356-199358738765",
   "metadata": {},
   "source": [
    "## Loading the dataset with DuckDB\n",
    "\n",
    "Key observations\n",
    "* compare and contrast with Pandas equivalent\n",
    "* result is a relation object (separate slide on relations)"
   ]
  },
  {
   "cell_type": "code",
   "execution_count": null,
   "id": "22e814a7-fe0c-4b80-b301-e2ae90f3b208",
   "metadata": {},
   "outputs": [],
   "source": [
    "import duckdb\n",
    "\n",
    "rel = duckdb.sql(\n",
    "    \"\"\"\n",
    "    SELECT ID, NAME, NBBIKES, RUNDATE, LAT, LONG\n",
    "    FROM read_csv( \n",
    "        'data/melb_bike_share.csv', \n",
    "        types={'RUNDATE': TIMESTAMP},\n",
    "        timestampformat='%Y%m%d%H%M%S'\n",
    "    )\n",
    "    \"\"\"\n",
    ")\n",
    "\n",
    "rel.show(max_rows=10)"
   ]
  },
  {
   "cell_type": "markdown",
   "id": "f824c5a6-6632-41b5-a155-1d0b4235d402",
   "metadata": {},
   "source": [
    "# Querying the dataset\n",
    "\n",
    "Notable callouts:\n",
    "* replacement scanning of 'rel' variable\n",
    "* "
   ]
  },
  {
   "cell_type": "code",
   "execution_count": null,
   "id": "88914274-42d8-49dc-a919-d761686ee541",
   "metadata": {},
   "outputs": [],
   "source": [
    "duckdb.sql(\n",
    "\"\"\"\n",
    "SELECT \n",
    "    NAME,\n",
    "    month(RUNDATE) AS MONTH,\n",
    "    avg(NBBIKES) AS AVG_BIKES,\n",
    "FROM rel\n",
    "WHERE year(RUNDATE) = 2017\n",
    "GROUP BY MONTH, NAME\n",
    "ORDER BY MONTH, NAME\n",
    "\"\"\"\n",
    ")"
   ]
  },
  {
   "cell_type": "markdown",
   "id": "b1f67e0f-03e5-44d5-903b-2da421f3545f",
   "metadata": {},
   "source": [
    "## Pandas version of the query\n",
    "\n",
    "Notable callouts:\n",
    "* more inscrutable than the SQL\n",
    "* results have to be materialised at each method call"
   ]
  },
  {
   "cell_type": "code",
   "execution_count": null,
   "id": "baffab69-3c52-4f4d-8ddc-92211753e633",
   "metadata": {},
   "outputs": [],
   "source": [
    "avg_df = (\n",
    "    df[df[\"RUNDATE\"].dt.year == 2017]\n",
    "    .groupby([\"NAME\", df[\"RUNDATE\"].dt.month])[\"NBBIKES\"]\n",
    "    .mean()\n",
    "    .reset_index(name=\"AVG_BIKES\")\n",
    "    .sort_values([\"RUNDATE\", \"NAME\"])\n",
    ")\n",
    "\n",
    "avg_df"
   ]
  },
  {
   "cell_type": "markdown",
   "id": "291ca325-ed89-4d08-93b9-01fed1b20f50",
   "metadata": {},
   "source": [
    "## Exporting our dataset back to disk\n",
    "* CSV\n",
    "* JSON\n",
    "* Parquet"
   ]
  },
  {
   "cell_type": "markdown",
   "id": "030efe04-a392-4ef1-bec7-f59228df6f35",
   "metadata": {},
   "source": [
    "## Pandas and polars integration"
   ]
  },
  {
   "cell_type": "code",
   "execution_count": null,
   "id": "e9f28bd4-83ca-4aba-91bb-a0754255dd22",
   "metadata": {},
   "outputs": [],
   "source": [
    "duckdb.sql(\"FROM rel LIMIT 3\")"
   ]
  },
  {
   "cell_type": "code",
   "execution_count": null,
   "id": "ec1d4122-0662-4246-bca2-8cfce5fcb16c",
   "metadata": {},
   "outputs": [],
   "source": [
    "%%time\n",
    "duckdb.sql(\"FROM rel USING SAMPLE 3\")"
   ]
  },
  {
   "cell_type": "markdown",
   "id": "8156078a-6793-478e-b98b-a198fadb93b0",
   "metadata": {},
   "source": [
    "### Converting to Pandas and Polars Dataframes"
   ]
  },
  {
   "cell_type": "code",
   "execution_count": null,
   "id": "daa99f4f-8fe5-4fd9-b690-3196bd7fd655",
   "metadata": {},
   "outputs": [],
   "source": [
    "%%time\n",
    "df = rel.df()"
   ]
  },
  {
   "cell_type": "markdown",
   "id": "e9ff3af3-1692-4a09-a68a-8a58417d7e28",
   "metadata": {},
   "source": [
    "### Querying a dataframe"
   ]
  },
  {
   "cell_type": "code",
   "execution_count": null,
   "id": "1f47a286-3d86-4a39-88d6-1300c4d2313a",
   "metadata": {},
   "outputs": [],
   "source": [
    "%%time\n",
    "duckdb.sql(\"FROM df USING SAMPLE 3\")"
   ]
  },
  {
   "cell_type": "markdown",
   "id": "75617b87-64a4-4b81-b8cc-4336d181118a",
   "metadata": {},
   "source": [
    "--------------------------"
   ]
  },
  {
   "cell_type": "code",
   "execution_count": null,
   "id": "7f3e1ac0-5dae-45a6-889e-b30818546724",
   "metadata": {},
   "outputs": [],
   "source": [
    "%%time\n",
    "conn.sql(\n",
    "    \"\"\"\n",
    "    CREATE OR REPLACE TABLE bikes AS\n",
    "    FROM relation\n",
    "    \"\"\"\n",
    ")"
   ]
  },
  {
   "cell_type": "markdown",
   "id": "7ca1b73c-3623-4dbb-b84c-893ce9a37bf7",
   "metadata": {},
   "source": [
    "### JupySQL for convenient querying in Jupyter Notebooks"
   ]
  },
  {
   "cell_type": "code",
   "execution_count": null,
   "id": "b00e44b5-516c-4450-853a-60593c67b036",
   "metadata": {},
   "outputs": [],
   "source": [
    "# load JupySQL extension requried for the %sql and %%sql magics\n",
    "%load_ext sql \n",
    "\n",
    "# register the DuckDB connection with JupySQL \n",
    "%sql conn --alias duckdb \n",
    "\n",
    "# configure JupySQL to return Pandas DataFrames by default\n",
    "%config SqlMagic.autopandas = True "
   ]
  },
  {
   "cell_type": "code",
   "execution_count": null,
   "id": "5a730743-5e6e-4ebb-8a63-54fc97f2a3b2",
   "metadata": {},
   "outputs": [],
   "source": [
    "%%sql \n",
    "SELECT \n",
    "    NAME,\n",
    "    extract('year' FROM RUNDATE) AS YEAR,\n",
    "    extract('month' FROM RUNDATE) AS MONTH,\n",
    "    COUNT(*) AS NUM_READINGS,\n",
    "FROM bikes\n",
    "WHERE MONTH = 1\n",
    "GROUP BY YEAR, MONTH, NAME\n",
    "ORDER BY YEAR, MONTH"
   ]
  },
  {
   "cell_type": "code",
   "execution_count": null,
   "id": "c1b2d570-b0b8-4b28-95e6-cbcf959b7f3b",
   "metadata": {},
   "outputs": [],
   "source": [
    "station_reading_counts_df"
   ]
  },
  {
   "cell_type": "code",
   "execution_count": null,
   "id": "2e1d160d-44b3-4f55-9dfb-d6c2ab4261bd",
   "metadata": {},
   "outputs": [],
   "source": [
    "import plotly.express as px \n",
    "\n",
    "px.line(\n",
    "    station_reading_counts_df,\n",
    "    x=\"MONTH\",\n",
    "    y=\"NUM_READINGS\",\n",
    "    markers=True, \n",
    "    symbol=\"YEAR\",\n",
    "    symbol_sequence=[\"square\", \"diamond\", \"circle\"],\n",
    "    color=\"YEAR\",\n",
    "    title=\"Records by month for each year the Melbourne Bike Share program was active\",\n",
    "    height=400,\n",
    ").update_traces(marker_size=8)"
   ]
  },
  {
   "cell_type": "markdown",
   "id": "e5103fed-d29e-41f9-9c46-0b7ae8ccb18a",
   "metadata": {},
   "source": [
    "## Working with the Relational API"
   ]
  },
  {
   "cell_type": "code",
   "execution_count": null,
   "id": "1c978ec9-b742-46aa-9e4d-d3a7918ee879",
   "metadata": {},
   "outputs": [],
   "source": [
    "conn.table(\"bikes\").describe()"
   ]
  },
  {
   "cell_type": "code",
   "execution_count": null,
   "id": "567c8d57-d07e-46ff-adf4-2ec019c65692",
   "metadata": {},
   "outputs": [],
   "source": [
    "bikes_rel = conn.table(\"bikes\")"
   ]
  },
  {
   "cell_type": "code",
   "execution_count": null,
   "id": "faa0d473-57fb-44d4-b3a8-4c548db143cd",
   "metadata": {},
   "outputs": [],
   "source": [
    "bikes_rel.project(\"RUNDATE\", \"NBBIKES\", \"NBEMPTYDOCKS\").describe()"
   ]
  },
  {
   "cell_type": "code",
   "execution_count": null,
   "id": "d991b320-edea-4064-ad28-dd2c53026d62",
   "metadata": {},
   "outputs": [],
   "source": [
    "bikes_rel.filter(\"LOCKED = true\").value_counts(\"NAME\").order(\"2 DESC\")"
   ]
  },
  {
   "cell_type": "markdown",
   "id": "8379cb01-8e6e-481b-be6d-a52df2625bca",
   "metadata": {},
   "source": [
    "# Scratch"
   ]
  },
  {
   "cell_type": "code",
   "execution_count": null,
   "id": "585ed41c-b203-4aad-b1d2-2300f523459e",
   "metadata": {},
   "outputs": [],
   "source": [
    "%%sql\n",
    "SELECT count(DISTINCT LOCATION) FROM bikes"
   ]
  },
  {
   "cell_type": "code",
   "execution_count": null,
   "id": "1e2909fe-fb5a-444f-aca8-f01de6989901",
   "metadata": {},
   "outputs": [],
   "source": [
    "%%sql\n",
    "SELECT count(DISTINCT NAME) FROM bikes"
   ]
  },
  {
   "cell_type": "code",
   "execution_count": null,
   "id": "4284d07f-e32d-4926-a668-9d9d6519d809",
   "metadata": {},
   "outputs": [],
   "source": [
    "%%sql\n",
    "SELECT count(LOCATION)\n",
    "FROM bikes\n",
    "GROUP BY LOCATION"
   ]
  },
  {
   "cell_type": "markdown",
   "id": "b78f0d4c-8e9c-466f-9444-4d72ae863c8d",
   "metadata": {},
   "source": [
    "# Ad-hoc wrangling"
   ]
  },
  {
   "cell_type": "code",
   "execution_count": null,
   "id": "76a18a19-257b-4a27-9c78-c21c9efa01d2",
   "metadata": {},
   "outputs": [],
   "source": [
    "rel"
   ]
  },
  {
   "cell_type": "code",
   "execution_count": null,
   "id": "69bbf54b-7405-4823-89a7-b7a794ee05fe",
   "metadata": {},
   "outputs": [],
   "source": [
    "duckdb.sql(\"COPY (FROM rel USING SAMPLE 1000000) TO 'sample_bikes.csv'\")"
   ]
  },
  {
   "cell_type": "markdown",
   "id": "d6be4502-a354-41ba-991a-a4fb3410bdf8",
   "metadata": {},
   "source": [
    "# In-Memory databases vs Persistant file database"
   ]
  },
  {
   "cell_type": "code",
   "execution_count": null,
   "id": "5d4acfbe-8a29-4134-b65d-996d0be5884e",
   "metadata": {},
   "outputs": [],
   "source": [
    "mem_conn = duckdb.connect()"
   ]
  },
  {
   "cell_type": "code",
   "execution_count": null,
   "id": "011951d9-ce5c-41e9-9c83-1fa5ee0b868d",
   "metadata": {},
   "outputs": [],
   "source": [
    "file_conn = duckdb.connect(\"bike_share.duckdb\")"
   ]
  }
 ],
 "metadata": {
  "kernelspec": {
   "display_name": "Python 3 (ipykernel)",
   "language": "python",
   "name": "python3"
  },
  "language_info": {
   "codemirror_mode": {
    "name": "ipython",
    "version": 3
   },
   "file_extension": ".py",
   "mimetype": "text/x-python",
   "name": "python",
   "nbconvert_exporter": "python",
   "pygments_lexer": "ipython3",
   "version": "3.12.7"
  }
 },
 "nbformat": 4,
 "nbformat_minor": 5
}
