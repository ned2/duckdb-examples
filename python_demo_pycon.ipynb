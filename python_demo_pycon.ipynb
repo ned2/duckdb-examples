{
 "cells": [
  {
   "cell_type": "markdown",
   "id": "661c2f7d-b159-4795-b567-9336ae4fb740",
   "metadata": {},
   "source": [
    "# Exploring the Melbourne Bike Share Dataset with DuckDB"
   ]
  },
  {
   "cell_type": "markdown",
   "id": "9ea96d20-f06d-4d74-a667-752b70ed85fd",
   "metadata": {},
   "source": [
    "## Getting the dataset\n",
    "\n",
    "https://melbournetestbed.opendatasoft.com/explore/dataset/melbourne-bike-share-station-readings-2011-2017/information/"
   ]
  },
  {
   "cell_type": "code",
   "execution_count": null,
   "id": "b8a090b1-383a-4dc0-8b09-527223bef6e2",
   "metadata": {},
   "outputs": [],
   "source": [
    "%%bash\n",
    "pip install -r requirements.txt\n",
    "wget --no-clobber https://opendatasoft-s3.s3.amazonaws.com/downloads/archive/74id-aqj9.zip\n",
    "unzip -n 74id-aqj9.zip\n",
    "mkdir -p data\n",
    "mv 74id-aqj9.csv data/melb_bike_share.csv"
   ]
  },
  {
   "cell_type": "markdown",
   "id": "a4db5aa9-9af7-4d46-b2ef-71fa89401038",
   "metadata": {},
   "source": [
    "## Loading the dataset with Pandas"
   ]
  },
  {
   "cell_type": "code",
   "execution_count": null,
   "id": "686c7e1a-4cb7-42b8-89f1-d164a8ba88fa",
   "metadata": {},
   "outputs": [],
   "source": [
    "%%time\n",
    "import pandas as pd\n",
    "\n",
    "bikes_df = pd.read_csv(\n",
    "    \"data/melb_bike_share.csv\",\n",
    "    usecols=[\"ID\", \"NAME\", \"NBBIKES\", \"RUNDATE\", \"LAT\", \"LONG\"],\n",
    "    parse_dates=[\"RUNDATE\"],\n",
    "    date_format=\"%Y%m%d%H%M%S\",\n",
    ")\n",
    "\n",
    "bikes_df"
   ]
  },
  {
   "cell_type": "markdown",
   "id": "2c3bfc19-389c-4a01-8356-199358738765",
   "metadata": {},
   "source": [
    "## Loading the dataset with DuckDB"
   ]
  },
  {
   "cell_type": "code",
   "execution_count": null,
   "id": "22e814a7-fe0c-4b80-b301-e2ae90f3b208",
   "metadata": {},
   "outputs": [],
   "source": [
    "%%time\n",
    "import duckdb\n",
    "\n",
    "bikes_rel = duckdb.sql(\n",
    "    \"\"\"\n",
    "    SELECT ID, NAME, NBBIKES, RUNDATE, LAT, LONG\n",
    "    FROM read_csv( \n",
    "        'data/melb_bike_share.csv', \n",
    "        types={'RUNDATE': TIMESTAMP},\n",
    "        timestampformat='%Y%m%d%H%M%S'\n",
    "    )\n",
    "    \"\"\"\n",
    ")\n",
    "\n",
    "bikes_rel"
   ]
  },
  {
   "cell_type": "markdown",
   "id": "f824c5a6-6632-41b5-a155-1d0b4235d402",
   "metadata": {},
   "source": [
    "# Querying the dataset"
   ]
  },
  {
   "cell_type": "code",
   "execution_count": null,
   "id": "88914274-42d8-49dc-a919-d761686ee541",
   "metadata": {},
   "outputs": [],
   "source": [
    "%%time\n",
    "monthly_bikes_rel = duckdb.sql(\n",
    "    \"\"\"\n",
    "    SELECT \n",
    "        month(RUNDATE) AS MONTH,\n",
    "        round(avg(NBBIKES), 2) AS AVG_BIKES,\n",
    "    FROM bikes_rel\n",
    "    WHERE year(RUNDATE) = 2017\n",
    "    GROUP BY MONTH\n",
    "    ORDER BY MONTH\n",
    "    \"\"\"\n",
    ")\n",
    "\n",
    "monthly_bikes_rel"
   ]
  },
  {
   "cell_type": "markdown",
   "id": "b1f67e0f-03e5-44d5-903b-2da421f3545f",
   "metadata": {},
   "source": [
    "## Pandas version of the query"
   ]
  },
  {
   "cell_type": "code",
   "execution_count": null,
   "id": "baffab69-3c52-4f4d-8ddc-92211753e633",
   "metadata": {},
   "outputs": [],
   "source": [
    "avg_bikes_df = (\n",
    "    bikes_df[bikes_df[\"RUNDATE\"].dt.year == 2017]\n",
    "    .groupby(bikes_df[\"RUNDATE\"].dt.month)[\"NBBIKES\"]\n",
    "    .mean()\n",
    "    .round(2)\n",
    "    .reset_index(name=\"AVG_BIKES\")\n",
    "    .sort_values(\"RUNDATE\")\n",
    ")\n",
    "\n",
    "avg_bikes_df"
   ]
  },
  {
   "cell_type": "markdown",
   "id": "291ca325-ed89-4d08-93b9-01fed1b20f50",
   "metadata": {},
   "source": [
    "## Exporting our dataset back to disk"
   ]
  },
  {
   "cell_type": "code",
   "execution_count": null,
   "id": "4ead39c9-e4a7-4716-b0ad-e991e4d4dc16",
   "metadata": {},
   "outputs": [],
   "source": [
    "duckdb.sql(\"COPY monthly_bikes_rel TO 'data/monthly_avg_bikes.csv'\")"
   ]
  },
  {
   "cell_type": "code",
   "execution_count": null,
   "id": "964c307a-d522-4691-b08d-5d3877f5d580",
   "metadata": {},
   "outputs": [],
   "source": [
    "duckdb.sql(\"COPY monthly_bikes_rel TO 'data/monthly_avg_bikes.parquet'\")"
   ]
  },
  {
   "cell_type": "code",
   "execution_count": null,
   "id": "2bbb67de-8a0d-4b57-899d-04a3799e5df5",
   "metadata": {},
   "outputs": [],
   "source": [
    "duckdb.sql(\"COPY monthly_bikes_rel TO 'data/monthly_avg_bikes.json'\")"
   ]
  },
  {
   "cell_type": "markdown",
   "id": "e5b9a003-4f1a-4486-928b-6f1c17ccb086",
   "metadata": {},
   "source": [
    "Passing in options:"
   ]
  },
  {
   "cell_type": "code",
   "execution_count": null,
   "id": "5b444942-622e-4444-abdd-81affd2b4a5f",
   "metadata": {},
   "outputs": [],
   "source": [
    "duckdb.sql(\"COPY monthly_bikes_rel TO 'data/monthly_avg_bikes.csv' (DELIMITER '|')\")"
   ]
  },
  {
   "cell_type": "code",
   "execution_count": null,
   "id": "cd708f1e-9fe1-4bf7-b326-0151d2dbc008",
   "metadata": {},
   "outputs": [],
   "source": [
    "duckdb.sql(\"COPY monthly_bikes_rel TO 'data/monthly_avg_bikes.json' (ARRAY true)\")"
   ]
  },
  {
   "cell_type": "markdown",
   "id": "c1bea7ff-16a7-4311-8293-920d94f20aff",
   "metadata": {},
   "source": [
    "### Some nice SQL features"
   ]
  },
  {
   "cell_type": "code",
   "execution_count": null,
   "id": "6fedbb09-a1bd-453c-849e-2a3fa9283b66",
   "metadata": {},
   "outputs": [],
   "source": [
    "duckdb.sql(\n",
    "    \"\"\"    \n",
    "    COPY (\n",
    "        SELECT * FROM bikes_rel LIMIT 100000\n",
    "    ) TO 'bike_share_100k.csv'\"\n",
    "    \"\"\"\n",
    ")"
   ]
  },
  {
   "cell_type": "code",
   "execution_count": null,
   "id": "d38e8155-0e76-4bbc-9d76-3d1d12642bc5",
   "metadata": {},
   "outputs": [],
   "source": [
    "duckdb.sql(\n",
    "    \"\"\"    \n",
    "    COPY (\n",
    "        FROM bikes_rel USING SAMPLE 100000\n",
    "    ) TO 'bike_share_sample_100k.csv'\n",
    "    \"\"\"\n",
    ")"
   ]
  },
  {
   "cell_type": "markdown",
   "id": "030efe04-a392-4ef1-bec7-f59228df6f35",
   "metadata": {},
   "source": [
    "## Python in-memory data format integration"
   ]
  },
  {
   "cell_type": "markdown",
   "id": "1c78f271-4ae7-41cb-9cc6-b0dbde37b943",
   "metadata": {},
   "source": [
    "### Exporting"
   ]
  },
  {
   "cell_type": "code",
   "execution_count": null,
   "id": "4d70ae7e-e42e-456d-829e-ceffccc04b91",
   "metadata": {},
   "outputs": [],
   "source": [
    "bikes_rel.df()"
   ]
  },
  {
   "cell_type": "code",
   "execution_count": null,
   "id": "d88dc640-cb45-4a43-bdda-6dea38fc43fa",
   "metadata": {},
   "outputs": [],
   "source": [
    "bikes_rel.pl()"
   ]
  },
  {
   "cell_type": "code",
   "execution_count": null,
   "id": "2f17893f-5f56-4732-b9f8-9504a9a64464",
   "metadata": {},
   "outputs": [],
   "source": [
    "bikes_rel.arrow()"
   ]
  },
  {
   "cell_type": "code",
   "execution_count": null,
   "id": "40f180b6-07f5-4dbf-ac68-386b44f0b1ef",
   "metadata": {},
   "outputs": [],
   "source": [
    "bikes_rel.fetchnumpy()"
   ]
  },
  {
   "cell_type": "markdown",
   "id": "d3635cc0-e634-4f88-a7ff-7307b6403c70",
   "metadata": {},
   "source": [
    "### Importing\n",
    "\n",
    "Note: not runable examples."
   ]
  },
  {
   "cell_type": "code",
   "execution_count": null,
   "id": "7b6d7883-5bd5-47c5-8571-0fe3e784a87d",
   "metadata": {},
   "outputs": [],
   "source": [
    "duckdb.sql(\"SELECT * FROM pandas_df\")"
   ]
  },
  {
   "cell_type": "code",
   "execution_count": null,
   "id": "d39ce5f1-ae7d-45e3-9e92-bead2dabd366",
   "metadata": {},
   "outputs": [],
   "source": [
    "duckdb.sql(\"SELECT * FROM polars_df\")"
   ]
  },
  {
   "cell_type": "code",
   "execution_count": null,
   "id": "634daf02-3437-4e10-aebf-d6d6862de9f4",
   "metadata": {},
   "outputs": [],
   "source": [
    "duckdb.sql(\"SELECT * FROM arrow_table\")"
   ]
  },
  {
   "cell_type": "code",
   "execution_count": null,
   "id": "fa2456bf-080c-492b-acd2-36a31661bda9",
   "metadata": {},
   "outputs": [],
   "source": [
    "duckdb.sql(\"SELECT * FROM numpy_array\")"
   ]
  },
  {
   "cell_type": "markdown",
   "id": "4852019a-c10a-4ec4-867b-9941b1694068",
   "metadata": {},
   "source": [
    "# The DuckDB Relational API"
   ]
  },
  {
   "cell_type": "code",
   "execution_count": null,
   "id": "947d5552-7caf-4d97-a3de-a4301413aff3",
   "metadata": {},
   "outputs": [],
   "source": [
    "import duckdb\n",
    "\n",
    "duckdb.read_csv(\n",
    "    \"data/melb_bike_share.csv\", \n",
    "    dtype={\"RUNDATE\": \"TIMESTAMP\"},\n",
    "    timestamp_format=\"%Y%m%d%H%M%S\",\n",
    ").filter(\"year(RUNDATE) = 2017\").count(\"*\")"
   ]
  },
  {
   "cell_type": "code",
   "execution_count": null,
   "id": "450c9ce8-fd6e-4953-bdb7-8acd4077ad3c",
   "metadata": {},
   "outputs": [],
   "source": [
    "from duckdb import FunctionExpression, StarExpression, ColumnExpression\n",
    "\n",
    "star = duckdb.StarExpression()\n",
    "rundate_col = ColumnExpression(\"RUNDATE\")\n",
    "month_col = FunctionExpression(\"month\", rundate_col).alias(\"MONTH\")\n",
    "year_col = FunctionExpression(\"year\", rundate_col).alias(\"YEAR\")\n",
    "\n",
    "\n",
    "duckdb.read_csv(\n",
    "    \"data/melb_bike_share.csv\", \n",
    "    dtype={\"RUNDATE\": \"TIMESTAMP\"},\n",
    "    timestamp_format=\"%Y%m%d%H%M%S\",\n",
    ").select(star, month_col, year_col)\n"
   ]
  },
  {
   "cell_type": "markdown",
   "id": "899954a3-edca-46e7-941f-dc450306e9a1",
   "metadata": {},
   "source": [
    "# Ibis"
   ]
  },
  {
   "cell_type": "code",
   "execution_count": null,
   "id": "a7b3c552-1bcd-4026-b478-3e438acf2717",
   "metadata": {},
   "outputs": [],
   "source": [
    "import ibis\n",
    "from ibis import _\n",
    "\n",
    "ibis.options.interactive = True\n",
    "\n",
    "ibis.read_csv(\n",
    "    \"data/melb_bike_share.csv\",\n",
    "    types={\"RUNDATE\": \"TIMESTAMP\"},\n",
    "    timestampformat=\"%Y%m%d%H%M%S\"\n",
    ").filter(_.RUNDATE.year() == 2017).count()"
   ]
  },
  {
   "cell_type": "markdown",
   "id": "d6be4502-a354-41ba-991a-a4fb3410bdf8",
   "metadata": {},
   "source": [
    "# In-Memory databases vs Persistant file database"
   ]
  },
  {
   "cell_type": "code",
   "execution_count": null,
   "id": "5d4acfbe-8a29-4134-b65d-996d0be5884e",
   "metadata": {},
   "outputs": [],
   "source": [
    "mem_conn = duckdb.connect()"
   ]
  },
  {
   "cell_type": "code",
   "execution_count": null,
   "id": "011951d9-ce5c-41e9-9c83-1fa5ee0b868d",
   "metadata": {},
   "outputs": [],
   "source": [
    "file_conn = duckdb.connect(\"bike_share.duckdb\")"
   ]
  }
 ],
 "metadata": {
  "kernelspec": {
   "display_name": "Python 3 (ipykernel)",
   "language": "python",
   "name": "python3"
  },
  "language_info": {
   "codemirror_mode": {
    "name": "ipython",
    "version": 3
   },
   "file_extension": ".py",
   "mimetype": "text/x-python",
   "name": "python",
   "nbconvert_exporter": "python",
   "pygments_lexer": "ipython3",
   "version": "3.12.7"
  }
 },
 "nbformat": 4,
 "nbformat_minor": 5
}
